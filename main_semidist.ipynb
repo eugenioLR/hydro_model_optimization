{
 "cells": [
  {
   "cell_type": "code",
   "execution_count": 1,
   "metadata": {},
   "outputs": [],
   "source": [
    "import pandas as pd\n",
    "import numpy as np\n",
    "import rpy2.robjects as robjects\n",
    "import rpy2.robjects as ro\n",
    "from rpy2.robjects import pandas2ri\n",
    "\n",
    "pandas2ri.activate()\n",
    "\n",
    "from PyCRO_SL import *\n",
    "from PyCRO_SL.CRO_SL import CRO_SL\n",
    "from PyCRO_SL.AbsObjetiveFunc import AbsObjetiveFunc\n",
    "from PyCRO_SL.SubstrateInt import SubstrateInt\n",
    "from PyCRO_SL.SubstrateReal import SubstrateReal\n",
    "import random"
   ]
  },
  {
   "cell_type": "code",
   "execution_count": 11,
   "metadata": {},
   "outputs": [
    {
     "data": {
      "text/plain": [
       "<__main__.HydroProblemSemidist at 0x7fbf567dd060>"
      ]
     },
     "execution_count": 11,
     "metadata": {},
     "output_type": "execute_result"
    }
   ],
   "source": [
    "class HydroProblemSemidist(AbsObjetiveFunc):\n",
    "    def __init__(self, basin_df, rscript_name=\"exec_optim_semidist.R\", metric=\"MSE\", model_used=0, basin_code=-1):\n",
    "        # Defining the R script and loading the instance in Python\n",
    "        r = robjects.r[\"source\"]\n",
    "        # (rscript_name)\n",
    "\n",
    "        inf_lim = np.array([1e-4, 10, 0, 1e-4, 1e-4, 2, -6])\n",
    "        sup_lim = np.array([1, 2000, 1, 100, 1, 11, 1])\n",
    "        self.size = 7\n",
    "\n",
    "        self.metric = metric\n",
    "        self.model_used = model_used\n",
    "        self.basin_df = basin_df\n",
    "        self.basin_code = basin_code\n",
    "\n",
    "        opt = \"min\"\n",
    "        if metric in [\"KGE\", \"NSE\"]:\n",
    "            opt = \"max\"\n",
    "\n",
    "        # Loading the function we have defined in R.\n",
    "        self.get_basin_q = robjects.globalenv[\"get_basin_q\"]\n",
    "        self.exec_function_r = robjects.globalenv[\"eval_basin\"]\n",
    "        super().__init__(self.size, opt, sup_lim, inf_lim)\n",
    "\n",
    "    def objetive(self, solution):\n",
    "        agg_q = {}\n",
    "        result_q = {}\n",
    "\n",
    "        prev_q = 0\n",
    "        for idx in self.basin_df.index:\n",
    "            basin_code = self.basin_df[\"code\"][idx]\n",
    "            codedown = self.basin_df[\"codedown\"][idx]\n",
    "\n",
    "            prev_q = 0\n",
    "            if basin_code in agg_q:\n",
    "                prev_q = agg_q[basin_code]\n",
    "\n",
    "            # agg_q[codedown] += self.get_basin_q(model, solution, basin_code, prev_q)\n",
    "            result_q[basin_code] = self.get_basin_q(model, solution, basin_code, prev_q)\n",
    "            if codedown not in agg_q:\n",
    "                agg_q[codedown] = 0\n",
    "            agg_q[codedown] += result_q[basin_code]\n",
    "\n",
    "        metrics = self.exec_function_r(result_q[self.basin_code], self.basin_code)\n",
    "        if self.metric == \"MSE\":\n",
    "            return float(metrics[0])\n",
    "        elif self.metric == \"RMSE\":\n",
    "            return float(metrics[1])\n",
    "        elif self.metric == \"NSE\":\n",
    "            return float(metrics[3])\n",
    "        elif self.metric == \"R2\":\n",
    "            return abs(1 - float(metrics[4]))\n",
    "        elif self.metric == \"KGE\":\n",
    "            return float(metrics[5])\n",
    "\n",
    "    def random_solution(self):\n",
    "        return (self.sup_lim - self.inf_lim) * np.random.random(self.size) + self.inf_lim\n",
    "\n",
    "    def check_bounds(self, solution):\n",
    "        return solution.clip(self.inf_lim, self.sup_lim)\n",
    "\n",
    "\n",
    "HydroProblemSemidist(\"exec_optim_semidist.R\", \"NSE\", 0)"
   ]
  },
  {
   "cell_type": "code",
   "execution_count": 8,
   "metadata": {},
   "outputs": [],
   "source": [
    "substrates_real = [\n",
    "    SubstrateReal(\"Gauss\", {\"F\": 0.1}),\n",
    "    SubstrateReal(\"DE/best/2\", {\"F\": 0.7, \"Cr\": 0.9}),\n",
    "    SubstrateReal(\"BLXalpha\", {\"Cr\": 0.35}),\n",
    "    SubstrateReal(\"Firefly\", {\"a\": 0.7, \"b\": 1, \"d\": 0.95, \"g\": 10}),\n",
    "    SubstrateReal(\"Perm\", {\"Cr\": 4 / 7}),\n",
    "]\n",
    "\n",
    "params = {\n",
    "    # \"popSize\": 120,\n",
    "    \"popSize\": 2,\n",
    "    \"rho\": 0.6,\n",
    "    \"Fb\": 0.98,\n",
    "    \"Fd\": 0.15,\n",
    "    \"Pd\": 0.99,\n",
    "    \"k\": 3,\n",
    "    \"K\": 10,\n",
    "    \"group_subs\": True,\n",
    "    \"stop_cond\": \"ngen\",\n",
    "    \"time_limit\": 400.0,\n",
    "    \"Ngen\": 1,\n",
    "    # \"Ngen\": 100,\n",
    "    \"Neval\": 3e4,\n",
    "    \"fit_target\": 1000,\n",
    "    \"verbose\": True,\n",
    "    \"v_timer\": 1,\n",
    "    \"dynamic\": True,\n",
    "    \"dyn_method\": \"fitness\",\n",
    "    \"dyn_metric\": \"best\",\n",
    "    \"dyn_steps\": 500,\n",
    "    \"prob_amp\": 0.015,\n",
    "}"
   ]
  },
  {
   "cell_type": "code",
   "execution_count": 13,
   "metadata": {},
   "outputs": [
    {
     "name": "stdout",
     "output_type": "stream",
     "text": [
      "Rows: 4 Columns: 4\n",
      "── Column specification ────────────────────────────────────────────────────────\n",
      "Delimiter: \",\"\n",
      "dbl (4): code, order, codedown, supha\n",
      "\n",
      "ℹ Use `spec()` to retrieve the full column specification for this data.\n",
      "ℹ Specify the column types or set `show_col_types = FALSE` to quiet this message.\n",
      "Optimizing basin with code 3001.\n",
      "\n",
      "\n",
      "[ 3.26267415e+03  5.71198230e+01  1.37100000e+02 -3.04693500e+00\n",
      "  2.30821000e-01 -4.69585000e-01]\n",
      "[ 3.26267415e+03  5.71198230e+01  1.37100000e+02 -3.04693500e+00\n",
      "  2.30821000e-01 -4.69585000e-01]\n",
      "[ 3.26267415e+03  5.71198230e+01  1.37100000e+02 -3.04693500e+00\n",
      "  2.30821000e-01 -4.69585000e-01]\n",
      "Time Spent 13.46s:\n",
      "\tGeneration: 1\n",
      "\tBest fitness: -3.046935\n",
      "\tEvaluations of fitness: 3\n",
      "\tSubstrate probability:\n",
      "\t\tGauss:    0.2\n",
      "\t\tDE/best/2:0.2\n",
      "\t\tBLXalpha: 0.2\n",
      "\t\tFirefly:  0.2\n",
      "\t\tPerm:     0.2\n",
      "\n"
     ]
    },
    {
     "data": {
      "text/plain": [
       "(array([ 1.39732610e-01,  1.48888156e+03,  2.58168254e-01,  9.70876390e+01,\n",
       "         4.67081482e-03,  7.02761415e+00, -3.45334615e+00]),\n",
       " -3.046935)"
      ]
     },
     "execution_count": 13,
     "metadata": {},
     "output_type": "execute_result"
    }
   ],
   "source": [
    "model = 2\n",
    "target = \"NSE\"\n",
    "\n",
    "rscript_name = \"exec_optim_semidist.R\"\n",
    "\n",
    "r = robjects.r\n",
    "r[\"source\"](rscript_name)\n",
    "get_basin_q = robjects.globalenv[\"get_basin_q\"]\n",
    "\n",
    "basins = pd.read_csv(\"basins.txt\")\n",
    "basins.sort_values(by=[\"order\"])\n",
    "\n",
    "objfunc = HydroProblemSemidist(basins, rscript_name, target, model, 3005)\n",
    "c = CRO_SL(objfunc, substrates_real, params)\n",
    "\n",
    "print(f\"Optimizing basin with code {basin_code}.\\n\\n\")\n",
    "\n",
    "c.safe_optimize()\n",
    "\n",
    "# agg_q = {}\n",
    "# basin_params = {}\n",
    "\n",
    "# prev_q = 0\n",
    "# for idx in basins.index:\n",
    "#     basin_code = basins[\"code\"][idx]\n",
    "#     codedown = basins[\"codedown\"][idx]\n",
    "\n",
    "#     prev_q = 0\n",
    "#     if basin_code in agg_q:\n",
    "#         prev_q = agg_q[basin_code]\n",
    "\n",
    "#     objfunc = HydroProblemSemidist(\"exec_optim_semidist.R\", \"NSE\", 0)\n",
    "#     c = CRO_SL(objfunc, substrates_real, params)\n",
    "\n",
    "#     print(f\"Optimizing basin with code {basin_code}.\\n\\n\")\n",
    "\n",
    "#     c.safe_optimize()\n",
    "#     basin_params[basin_code] = c.best_solution()\n",
    "\n",
    "#     if codedown not in agg_q:\n",
    "#         agg_q[codedown] = 0\n",
    "\n",
    "#     agg_q[codedown] += get_basin_q(model, c.best_solution()[0], basin_code, prev_q)\n",
    "\n",
    "#     print(\"agg_q:\", agg_q)\n",
    "#     print(\"basin:\", basin[:][idx])"
   ]
  },
  {
   "cell_type": "code",
   "execution_count": 65,
   "metadata": {},
   "outputs": [],
   "source": [
    "# result = []\n",
    "# for i in basins[\"code\"]:\n",
    "#     result += [basin_params[i][0]]\n",
    "# result = np.array(result)\n",
    "result = c.best_solution()[0]\n",
    "np.savetxt(\"config_nooptim.csv\", [result], delimiter=\",\")"
   ]
  },
  {
   "cell_type": "code",
   "execution_count": 66,
   "metadata": {},
   "outputs": [
    {
     "data": {
      "text/plain": [
       "-2.364329"
      ]
     },
     "execution_count": 66,
     "metadata": {},
     "output_type": "execute_result"
    }
   ],
   "source": [
    "c.best_solution()[1]"
   ]
  }
 ],
 "metadata": {
  "kernelspec": {
   "display_name": "Python 3 (ipykernel)",
   "language": "python",
   "name": "python3"
  },
  "language_info": {
   "codemirror_mode": {
    "name": "ipython",
    "version": 3
   },
   "file_extension": ".py",
   "mimetype": "text/x-python",
   "name": "python",
   "nbconvert_exporter": "python",
   "pygments_lexer": "ipython3",
   "version": "3.10.9"
  },
  "orig_nbformat": 4,
  "vscode": {
   "interpreter": {
    "hash": "e7370f93d1d0cde622a1f8e1c04877d8463912d04d973331ad4851f04de6915a"
   }
  }
 },
 "nbformat": 4,
 "nbformat_minor": 2
}
