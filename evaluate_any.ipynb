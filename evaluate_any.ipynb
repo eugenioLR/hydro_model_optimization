{
 "cells": [
  {
   "cell_type": "code",
   "execution_count": 28,
   "metadata": {},
   "outputs": [],
   "source": [
    "import pandas as pd\n",
    "import numpy as np\n",
    "import rpy2.robjects as robjects\n",
    "import rpy2.robjects as ro\n",
    "from rpy2.robjects import pandas2ri\n",
    "import time\n",
    "import os\n",
    "import csv\n",
    "import matplotlib.pyplot as plt\n",
    "import seaborn as sns\n",
    "\n",
    "%matplotlib inline\n",
    "\n",
    "sns.set_style(\"white\")\n",
    "\n",
    "pandas2ri.activate()\n",
    "\n",
    "from PyCROSL import SubstrateReal, AbsObjectiveFunc, CRO_SL\n",
    "import random\n",
    "from objective_functions import *\n",
    "\n",
    "rscript_name_single = \"exec_optim.R\"\n",
    "rscript_name_cascade = \"exec_optim_semidist.R\""
   ]
  },
  {
   "cell_type": "code",
   "execution_count": 29,
   "metadata": {},
   "outputs": [],
   "source": [
    "basin_n = 3005  # 3005 or 5043\n",
    "\n",
    "if basin_n == 3005:\n",
    "    data_file_single = \"data/data_CHT_3005.txt\"\n",
    "    data_file_cascade = \"data/data_CHT_SIMPA.txt\"\n",
    "    basin_file_single = \"data/basins_CHT.txt\"\n",
    "    basin_file_cascade = \"data/basins_CHT.txt\"\n",
    "elif basin_n == 5043:\n",
    "    data_file_single = \"data/data_CHG_5043.txt\"\n",
    "    data_file_cascade = \"data/data_CHG_SIMPA.txt\"\n",
    "    basin_file_single = \"data/basins_CHG_5043.txt\"\n",
    "    basin_file_cascade = \"data/basins_CHG.txt\"\n",
    "else:\n",
    "    raise Exception(\"Invalid basin.\")"
   ]
  },
  {
   "cell_type": "code",
   "execution_count": 31,
   "metadata": {},
   "outputs": [
    {
     "name": "stdout",
     "output_type": "stream",
     "text": [
      "Rows: 4 Columns: 4\n",
      "── Column specification ────────────────────────────────────────────────────────\n",
      "Delimiter: \",\"\n",
      "dbl (4): code, order, codedown, supha\n",
      "\n",
      "ℹ Use `spec()` to retrieve the full column specification for this data.\n",
      "ℹ Specify the column types or set `show_col_types = FALSE` to quiet this message.\n",
      "[3417.6547, 1270.3415, 809.4765, 11512.4452]\n",
      "[0.20092129 0.0746824  0.0475885  0.67680781]\n"
     ]
    }
   ],
   "source": [
    "# Defining the R script and loading the instance in Python\n",
    "r = robjects.r\n",
    "r[\"source\"](rscript_name_single)\n",
    "r[\"source\"](rscript_name_cascade)\n",
    "\n",
    "robjects.globalenv[\"init_global\"](data_file_cascade, basin_file_cascade)\n",
    "exec_function_r = robjects.globalenv[\"eval_basin_param\"]\n",
    "get_basin_q = robjects.globalenv[\"get_basin_q\"]\n",
    "\n",
    "\n",
    "weights = []\n",
    "basin_df = pd.read_csv(basin_file_cascade)\n",
    "basin_df.sort_values(by=[\"order\"])\n",
    "\n",
    "full_data = pd.read_csv(data_file_cascade)\n",
    "for i, idx in enumerate(basin_df.index):\n",
    "    basin_code = basin_df[\"code\"][idx]\n",
    "    total_caudal = full_data[full_data[\"qhmobs\"] != -100][full_data[\"code\"] == basin_code][\"qhmobs\"].sum()\n",
    "    weights.append(total_caudal)\n",
    "print(weights)\n",
    "weights = np.asarray(weights) / sum(weights)\n",
    "print(weights)"
   ]
  },
  {
   "cell_type": "code",
   "execution_count": 32,
   "metadata": {},
   "outputs": [
    {
     "name": "stdout",
     "output_type": "stream",
     "text": [
      "./config_fullpon_3005_1_KGE.csv Yes\n",
      "./config_fullpon_3005_0_MSE.csv Yes\n",
      "./config_full_3005_1_NSE.csv Yes\n"
     ]
    }
   ],
   "source": [
    "# result_path = \"results/new_data/\"\n",
    "result_path = \"\"\n",
    "exec_types = [\n",
    "    (\"fullpon\", \"KGE\", 1),\n",
    "    (\"fullpon\", \"MSE\", 0),\n",
    "    (\"full\", \"NSE\", 1),\n",
    "]\n",
    "\n",
    "result_files = [(f\"./{result_path}config_{problem_type}_{basin_n}_{model}_{metric}.csv\", problem_type, model, metric) for problem_type, metric, model in exec_types]\n",
    "\n",
    "for file_name, *_ in result_files:\n",
    "    print(file_name, \"Yes\" if os.path.exists(file_name) else \"No\")\n",
    "    if not os.path.exists(file_name):\n",
    "        raise Exception(\"Some files were not found.\")"
   ]
  },
  {
   "cell_type": "code",
   "execution_count": 33,
   "metadata": {},
   "outputs": [
    {
     "name": "stdout",
     "output_type": "stream",
     "text": [
      "(28,)\n"
     ]
    }
   ],
   "source": [
    "print(np.loadtxt(result_files[0][0], delimiter=\",\", max_rows=1).shape)"
   ]
  },
  {
   "cell_type": "code",
   "execution_count": 34,
   "metadata": {},
   "outputs": [
    {
     "name": "stdout",
     "output_type": "stream",
     "text": [
      "./config_fullpon_3005_1_KGE.csv Yes\n"
     ]
    },
    {
     "ename": "ValueError",
     "evalue": "cannot set a row with mismatched columns",
     "output_type": "error",
     "traceback": [
      "\u001b[0;31m---------------------------------------------------------------------------\u001b[0m",
      "\u001b[0;31mValueError\u001b[0m                                Traceback (most recent call last)",
      "Cell \u001b[0;32mIn[34], line 34\u001b[0m\n\u001b[1;32m     32\u001b[0m             metrics \u001b[39m=\u001b[39m exec_function_r(model, params[idx], basin_code, prev_q)\n\u001b[1;32m     33\u001b[0m             param_str \u001b[39m=\u001b[39m np\u001b[39m.\u001b[39marray2string(params[idx], max_line_width\u001b[39m=\u001b[39mnp\u001b[39m.\u001b[39minf, separator\u001b[39m=\u001b[39m\u001b[39m\"\u001b[39m\u001b[39m;\u001b[39m\u001b[39m\"\u001b[39m)\u001b[39m.\u001b[39mreplace(\u001b[39m\"\u001b[39m\u001b[39m \u001b[39m\u001b[39m\"\u001b[39m, \u001b[39m\"\u001b[39m\u001b[39m\"\u001b[39m)\n\u001b[0;32m---> 34\u001b[0m             eval_df\u001b[39m.\u001b[39;49mloc[\u001b[39mlen\u001b[39;49m(eval_df)] \u001b[39m=\u001b[39m [model, target, basin_code] \u001b[39m+\u001b[39m \u001b[39mlist\u001b[39m(metrics) \u001b[39m+\u001b[39m [param_str]\n\u001b[1;32m     37\u001b[0m eval_df \u001b[39m=\u001b[39m eval_df[eval_df[\u001b[39m\"\u001b[39m\u001b[39mtarget\u001b[39m\u001b[39m\"\u001b[39m] \u001b[39m!=\u001b[39m \u001b[39m\"\u001b[39m\u001b[39mR2\u001b[39m\u001b[39m\"\u001b[39m]\n\u001b[1;32m     38\u001b[0m eval_df\n",
      "File \u001b[0;32m~/.local/lib/python3.11/site-packages/pandas/core/indexing.py:885\u001b[0m, in \u001b[0;36m_LocationIndexer.__setitem__\u001b[0;34m(self, key, value)\u001b[0m\n\u001b[1;32m    882\u001b[0m \u001b[39mself\u001b[39m\u001b[39m.\u001b[39m_has_valid_setitem_indexer(key)\n\u001b[1;32m    884\u001b[0m iloc \u001b[39m=\u001b[39m \u001b[39mself\u001b[39m \u001b[39mif\u001b[39;00m \u001b[39mself\u001b[39m\u001b[39m.\u001b[39mname \u001b[39m==\u001b[39m \u001b[39m\"\u001b[39m\u001b[39miloc\u001b[39m\u001b[39m\"\u001b[39m \u001b[39melse\u001b[39;00m \u001b[39mself\u001b[39m\u001b[39m.\u001b[39mobj\u001b[39m.\u001b[39miloc\n\u001b[0;32m--> 885\u001b[0m iloc\u001b[39m.\u001b[39;49m_setitem_with_indexer(indexer, value, \u001b[39mself\u001b[39;49m\u001b[39m.\u001b[39;49mname)\n",
      "File \u001b[0;32m~/.local/lib/python3.11/site-packages/pandas/core/indexing.py:1883\u001b[0m, in \u001b[0;36m_iLocIndexer._setitem_with_indexer\u001b[0;34m(self, indexer, value, name)\u001b[0m\n\u001b[1;32m   1880\u001b[0m     indexer, missing \u001b[39m=\u001b[39m convert_missing_indexer(indexer)\n\u001b[1;32m   1882\u001b[0m     \u001b[39mif\u001b[39;00m missing:\n\u001b[0;32m-> 1883\u001b[0m         \u001b[39mself\u001b[39;49m\u001b[39m.\u001b[39;49m_setitem_with_indexer_missing(indexer, value)\n\u001b[1;32m   1884\u001b[0m         \u001b[39mreturn\u001b[39;00m\n\u001b[1;32m   1886\u001b[0m \u001b[39mif\u001b[39;00m name \u001b[39m==\u001b[39m \u001b[39m\"\u001b[39m\u001b[39mloc\u001b[39m\u001b[39m\"\u001b[39m:\n\u001b[1;32m   1887\u001b[0m     \u001b[39m# must come after setting of missing\u001b[39;00m\n",
      "File \u001b[0;32m~/.local/lib/python3.11/site-packages/pandas/core/indexing.py:2219\u001b[0m, in \u001b[0;36m_iLocIndexer._setitem_with_indexer_missing\u001b[0;34m(self, indexer, value)\u001b[0m\n\u001b[1;32m   2216\u001b[0m     \u001b[39mif\u001b[39;00m is_list_like_indexer(value):\n\u001b[1;32m   2217\u001b[0m         \u001b[39m# must have conforming columns\u001b[39;00m\n\u001b[1;32m   2218\u001b[0m         \u001b[39mif\u001b[39;00m \u001b[39mlen\u001b[39m(value) \u001b[39m!=\u001b[39m \u001b[39mlen\u001b[39m(\u001b[39mself\u001b[39m\u001b[39m.\u001b[39mobj\u001b[39m.\u001b[39mcolumns):\n\u001b[0;32m-> 2219\u001b[0m             \u001b[39mraise\u001b[39;00m \u001b[39mValueError\u001b[39;00m(\u001b[39m\"\u001b[39m\u001b[39mcannot set a row with mismatched columns\u001b[39m\u001b[39m\"\u001b[39m)\n\u001b[1;32m   2221\u001b[0m     value \u001b[39m=\u001b[39m Series(value, index\u001b[39m=\u001b[39m\u001b[39mself\u001b[39m\u001b[39m.\u001b[39mobj\u001b[39m.\u001b[39mcolumns, name\u001b[39m=\u001b[39mindexer)\n\u001b[1;32m   2223\u001b[0m \u001b[39mif\u001b[39;00m \u001b[39mnot\u001b[39;00m \u001b[39mlen\u001b[39m(\u001b[39mself\u001b[39m\u001b[39m.\u001b[39mobj):\n\u001b[1;32m   2224\u001b[0m     \u001b[39m# We will ignore the existing dtypes instead of using\u001b[39;00m\n\u001b[1;32m   2225\u001b[0m     \u001b[39m#  internals.concat logic\u001b[39;00m\n",
      "\u001b[0;31mValueError\u001b[0m: cannot set a row with mismatched columns"
     ]
    }
   ],
   "source": [
    "eval_df = pd.DataFrame(columns=[\"model\", \"target\", \"MSE\", \"RMSE\", \"Pbias\", \"NSE\", \"R2\", \"KGE\", \"params\"])\n",
    "params_list = []\n",
    "for file_name, problem_type, model, target in result_files:\n",
    "    print(file_name, \"Yes\" if os.path.exists(file_name) else \"No\")\n",
    "    if problem_type == \"single\":\n",
    "        robjects.globalenv[\"init_global\"](data_file, basin_file)\n",
    "        params = np.loadtxt(file_name, delimiter=\",\", max_rows=1)\n",
    "        params_list.append(\",\".join(map(str, params)))\n",
    "\n",
    "        metrics = exec_function_r(model, params)\n",
    "        param_str = np.array2string(params, max_line_width=np.inf, separator=\";\").replace(\" \", \"\")\n",
    "        eval_df.loc[len(eval_df)] = [model, target] + list(metrics) + [param_str]\n",
    "    elif problem_type in [\"full\", \"fullpon\"]:\n",
    "        params = np.loadtxt(file_name, delimiter=\",\", max_rows=1).reshape([len(basin_df), -1])\n",
    "\n",
    "        prev_q = 0\n",
    "        agg_q = {}\n",
    "        basin_params = {}\n",
    "        for idx in basin_df.index:\n",
    "            basin_code = basin_df[\"code\"][idx]\n",
    "            codedown = basin_df[\"codedown\"][idx]\n",
    "\n",
    "            prev_q = 0\n",
    "            if basin_code in agg_q:\n",
    "                prev_q = agg_q[basin_code]\n",
    "\n",
    "            if codedown not in agg_q:\n",
    "                agg_q[codedown] = 0\n",
    "\n",
    "            agg_q[codedown] += get_basin_q(model, params[idx], basin_code, prev_q)\n",
    "\n",
    "            metrics = exec_function_r(model, params[idx], basin_code, prev_q)\n",
    "            param_str = np.array2string(params[idx], max_line_width=np.inf, separator=\";\").replace(\" \", \"\")\n",
    "            eval_df.loc[len(eval_df)] = [model, target, basin_code] + list(metrics) + [param_str]\n",
    "    \n",
    "\n",
    "eval_df = eval_df[eval_df[\"target\"] != \"R2\"]\n",
    "eval_df"
   ]
  },
  {
   "cell_type": "code",
   "execution_count": 20,
   "metadata": {},
   "outputs": [
    {
     "data": {
      "text/html": [
       "<div>\n",
       "<style scoped>\n",
       "    .dataframe tbody tr th:only-of-type {\n",
       "        vertical-align: middle;\n",
       "    }\n",
       "\n",
       "    .dataframe tbody tr th {\n",
       "        vertical-align: top;\n",
       "    }\n",
       "\n",
       "    .dataframe thead th {\n",
       "        text-align: right;\n",
       "    }\n",
       "</style>\n",
       "<table border=\"1\" class=\"dataframe\">\n",
       "  <thead>\n",
       "    <tr style=\"text-align: right;\">\n",
       "      <th></th>\n",
       "      <th>model</th>\n",
       "      <th>target</th>\n",
       "      <th>MSE</th>\n",
       "      <th>RMSE</th>\n",
       "      <th>Pbias</th>\n",
       "      <th>NSE</th>\n",
       "      <th>R2</th>\n",
       "      <th>KGE</th>\n",
       "      <th>params</th>\n",
       "    </tr>\n",
       "  </thead>\n",
       "  <tbody>\n",
       "    <tr>\n",
       "      <th>2</th>\n",
       "      <td>1</td>\n",
       "      <td>KGE</td>\n",
       "      <td>120.990025</td>\n",
       "      <td>10.999547</td>\n",
       "      <td>-1.8</td>\n",
       "      <td>0.414461</td>\n",
       "      <td>0.507805</td>\n",
       "      <td>0.711547</td>\n",
       "      <td>[0.6950017;372.13525704;1.;0.48689489;0.503093...</td>\n",
       "    </tr>\n",
       "    <tr>\n",
       "      <th>0</th>\n",
       "      <td>1</td>\n",
       "      <td>NSE</td>\n",
       "      <td>109.551104</td>\n",
       "      <td>10.466666</td>\n",
       "      <td>-3.6</td>\n",
       "      <td>0.469821</td>\n",
       "      <td>0.482026</td>\n",
       "      <td>0.628063</td>\n",
       "      <td>[1.71690187e-01;4.71663208e+02;9.99999982e-01;...</td>\n",
       "    </tr>\n",
       "    <tr>\n",
       "      <th>1</th>\n",
       "      <td>1</td>\n",
       "      <td>MSE</td>\n",
       "      <td>109.551080</td>\n",
       "      <td>10.466665</td>\n",
       "      <td>-3.6</td>\n",
       "      <td>0.469821</td>\n",
       "      <td>0.481995</td>\n",
       "      <td>0.627890</td>\n",
       "      <td>[1.70416486e-01;4.71184997e+02;9.99999997e-01;...</td>\n",
       "    </tr>\n",
       "  </tbody>\n",
       "</table>\n",
       "</div>"
      ],
      "text/plain": [
       "   model target         MSE       RMSE  Pbias       NSE        R2       KGE  \\\n",
       "2      1    KGE  120.990025  10.999547   -1.8  0.414461  0.507805  0.711547   \n",
       "0      1    NSE  109.551104  10.466666   -3.6  0.469821  0.482026  0.628063   \n",
       "1      1    MSE  109.551080  10.466665   -3.6  0.469821  0.481995  0.627890   \n",
       "\n",
       "                                              params  \n",
       "2  [0.6950017;372.13525704;1.;0.48689489;0.503093...  \n",
       "0  [1.71690187e-01;4.71663208e+02;9.99999982e-01;...  \n",
       "1  [1.70416486e-01;4.71184997e+02;9.99999997e-01;...  "
      ]
     },
     "execution_count": 20,
     "metadata": {},
     "output_type": "execute_result"
    }
   ],
   "source": [
    "eval_df.sort_values(\"NSE\")"
   ]
  },
  {
   "cell_type": "code",
   "execution_count": 41,
   "metadata": {},
   "outputs": [
    {
     "data": {
      "text/html": [
       "<div>\n",
       "<style scoped>\n",
       "    .dataframe tbody tr th:only-of-type {\n",
       "        vertical-align: middle;\n",
       "    }\n",
       "\n",
       "    .dataframe tbody tr th {\n",
       "        vertical-align: top;\n",
       "    }\n",
       "\n",
       "    .dataframe thead th {\n",
       "        text-align: right;\n",
       "    }\n",
       "</style>\n",
       "<table border=\"1\" class=\"dataframe\">\n",
       "  <thead>\n",
       "    <tr style=\"text-align: right;\">\n",
       "      <th></th>\n",
       "      <th>code</th>\n",
       "      <th>order</th>\n",
       "      <th>codedown</th>\n",
       "      <th>supha</th>\n",
       "      <th>MSE</th>\n",
       "      <th>RMSE</th>\n",
       "      <th>PBIAS</th>\n",
       "      <th>NSE</th>\n",
       "      <th>R2</th>\n",
       "      <th>KGE</th>\n",
       "      <th>f0</th>\n",
       "      <th>params</th>\n",
       "    </tr>\n",
       "  </thead>\n",
       "  <tbody>\n",
       "    <tr>\n",
       "      <th>0</th>\n",
       "      <td>5043</td>\n",
       "      <td>1</td>\n",
       "      <td>0</td>\n",
       "      <td>329429.24</td>\n",
       "      <td>109.551104</td>\n",
       "      <td>10.466666</td>\n",
       "      <td>-100</td>\n",
       "      <td>0.469821</td>\n",
       "      <td>0.482026</td>\n",
       "      <td>0.628063</td>\n",
       "      <td>-100</td>\n",
       "      <td>1.71690187e-01;4.71663208e+02;9.99999982e-01;4...</td>\n",
       "    </tr>\n",
       "    <tr>\n",
       "      <th>1</th>\n",
       "      <td>5043</td>\n",
       "      <td>1</td>\n",
       "      <td>0</td>\n",
       "      <td>329429.24</td>\n",
       "      <td>109.551080</td>\n",
       "      <td>10.466665</td>\n",
       "      <td>-100</td>\n",
       "      <td>0.469821</td>\n",
       "      <td>0.481995</td>\n",
       "      <td>0.627890</td>\n",
       "      <td>-100</td>\n",
       "      <td>1.70416486e-01;4.71184997e+02;9.99999997e-01;4...</td>\n",
       "    </tr>\n",
       "    <tr>\n",
       "      <th>2</th>\n",
       "      <td>5043</td>\n",
       "      <td>1</td>\n",
       "      <td>0</td>\n",
       "      <td>329429.24</td>\n",
       "      <td>120.990025</td>\n",
       "      <td>10.999547</td>\n",
       "      <td>-100</td>\n",
       "      <td>0.414461</td>\n",
       "      <td>0.507805</td>\n",
       "      <td>0.711547</td>\n",
       "      <td>-100</td>\n",
       "      <td>0.6950017;372.13525704;1.;0.48689489;0.5030936...</td>\n",
       "    </tr>\n",
       "  </tbody>\n",
       "</table>\n",
       "</div>"
      ],
      "text/plain": [
       "   code  order  codedown      supha         MSE       RMSE  PBIAS       NSE  \\\n",
       "0  5043      1         0  329429.24  109.551104  10.466666   -100  0.469821   \n",
       "1  5043      1         0  329429.24  109.551080  10.466665   -100  0.469821   \n",
       "2  5043      1         0  329429.24  120.990025  10.999547   -100  0.414461   \n",
       "\n",
       "         R2       KGE   f0                                             params  \n",
       "0  0.482026  0.628063 -100  1.71690187e-01;4.71663208e+02;9.99999982e-01;4...  \n",
       "1  0.481995  0.627890 -100  1.70416486e-01;4.71184997e+02;9.99999997e-01;4...  \n",
       "2  0.507805  0.711547 -100  0.6950017;372.13525704;1.;0.48689489;0.5030936...  "
      ]
     },
     "execution_count": 41,
     "metadata": {},
     "output_type": "execute_result"
    }
   ],
   "source": [
    "# code,order,codedown,supha,MSE,RMSE,PBIAS,NSE,R2,KGE,f0,param\n",
    "eval_df[\"code\"] = 5043\n",
    "eval_df[\"order\"] = 1\n",
    "eval_df[\"codedown\"] = 0\n",
    "eval_df[\"supha\"] = 329429.24\n",
    "eval_df[\"f0\"] = -100\n",
    "eval_df[\"PBIAS\"] = -100\n",
    "eval_table_df = eval_df[[\"code\", \"order\", \"codedown\", \"supha\", \"MSE\", \"RMSE\", \"PBIAS\", \"NSE\", \"R2\", \"KGE\", \"f0\", \"params\"]]\n",
    "eval_table_df.loc[:, \"params\"] = eval_table_df.loc[:, \"params\"].str.replace(\"[\", \"\")\n",
    "eval_table_df.loc[:, \"params\"] = eval_table_df.loc[:, \"params\"].str.replace(\"]\", \"\")\n",
    "eval_table_df"
   ]
  },
  {
   "cell_type": "code",
   "execution_count": 39,
   "metadata": {},
   "outputs": [],
   "source": [
    "eval_table_df.to_csv(f\"table_{problem_type}.txt\", index=False, quoting=csv.QUOTE_NONE)"
   ]
  },
  {
   "cell_type": "code",
   "execution_count": null,
   "metadata": {},
   "outputs": [],
   "source": [
    "fig, axes = plt.subplots(1, 4, figsize=(20, 5))\n",
    "\n",
    "\n",
    "metric_measures = [\"NSE\", \"MSE\", \"Pbias\", \"KGE\"]\n",
    "for idx, metric in enumerate([\"NSE\", \"MSE\", \"Pbias\", \"KGE\"]):\n",
    "    # ax = axes[idx//2, idx%2]\n",
    "    ax = axes[idx]\n",
    "    # hist_ax = sns.barplot(data=data_to_plot, x=\"target\", y=metric_measure, hue=\"model\", ax=ax)\n",
    "    hist_ax = sns.barplot(data=eval_df, x=\"target\", y=metric_measures[idx], hue=\"model\", ax=ax)\n",
    "    hist_ax.set(title=f\"Measuring {metric}\")\n",
    "\n",
    "    if metric == \"NSE\":\n",
    "        ax.axhline(1, color=\"k\", linestyle=\"--\")\n",
    "        hist_ax.set(ylim=(0, 1.1))\n",
    "    elif metric_measures[idx] == \"Pbias\":\n",
    "        hist_ax.set(ylim=(-20, 20))\n",
    "        pass\n",
    "    elif metric != \"MSE\":\n",
    "        ax.axhline(1, color=\"k\", linestyle=\"--\")\n",
    "        hist_ax.set(ylim=(0, 1.1))\n",
    "\n",
    "    if idx == 3:\n",
    "        sns.move_legend(hist_ax, \"upper left\", bbox_to_anchor=(1, 1))\n",
    "    else:\n",
    "        hist_ax.get_legend().remove()\n",
    "    sns.despine()\n",
    "    ax.grid(axis=\"y\")\n",
    "\n",
    "plt.show()"
   ]
  },
  {
   "cell_type": "code",
   "execution_count": null,
   "metadata": {},
   "outputs": [],
   "source": []
  }
 ],
 "metadata": {
  "kernelspec": {
   "display_name": "hydro",
   "language": "python",
   "name": "python3"
  },
  "language_info": {
   "codemirror_mode": {
    "name": "ipython",
    "version": 3
   },
   "file_extension": ".py",
   "mimetype": "text/x-python",
   "name": "python",
   "nbconvert_exporter": "python",
   "pygments_lexer": "ipython3",
   "version": "3.11.5"
  }
 },
 "nbformat": 4,
 "nbformat_minor": 4
}
